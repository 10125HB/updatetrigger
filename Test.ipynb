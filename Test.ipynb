{
 "cells": [
  {
   "cell_type": "code",
   "execution_count": 23,
   "metadata": {},
   "outputs": [
    {
     "name": "stdout",
     "output_type": "stream",
     "text": [
      "The autoreload extension is already loaded. To reload it, use:\n",
      "  %reload_ext autoreload\n"
     ]
    }
   ],
   "source": [
    "%load_ext autoreload\n",
    "%autoreload 2"
   ]
  },
  {
   "cell_type": "code",
   "execution_count": 24,
   "metadata": {},
   "outputs": [],
   "source": [
    "import logging\n",
    "from updatetest.model import Model\n",
    "\n",
    "logging.basicConfig(level=logging.DEBUG)"
   ]
  },
  {
   "cell_type": "code",
   "execution_count": 25,
   "metadata": {},
   "outputs": [
    {
     "name": "stderr",
     "output_type": "stream",
     "text": [
      "INFO:root:Model created. Parameters: a=1.0, b=2.0, value=0\n"
     ]
    }
   ],
   "source": [
    "m = Model()"
   ]
  },
  {
   "cell_type": "code",
   "execution_count": 26,
   "metadata": {},
   "outputs": [
    {
     "name": "stderr",
     "output_type": "stream",
     "text": [
      "INFO:root:Set a to 20\n",
      "INFO:root:Updated. Parameters: a=20, b=2.0, value=22.0\n",
      "INFO:root:Set b to 3\n",
      "INFO:root:Updated. Parameters: a=20, b=3, value=45.0\n"
     ]
    }
   ],
   "source": [
    "m.a = 20\n",
    "m.b = 3"
   ]
  },
  {
   "cell_type": "code",
   "execution_count": 27,
   "metadata": {},
   "outputs": [
    {
     "name": "stderr",
     "output_type": "stream",
     "text": [
      "INFO:root:Set a to 30\n"
     ]
    }
   ],
   "source": [
    "m.prevent_update = True\n",
    "\n",
    "m.a = 30"
   ]
  },
  {
   "cell_type": "code",
   "execution_count": 33,
   "metadata": {},
   "outputs": [
    {
     "name": "stderr",
     "output_type": "stream",
     "text": [
      "INFO:root:Set a to 40\n",
      "INFO:root:Updated. Parameters: a=40, b=4, value=197.0\n",
      "INFO:root:Set b to 4\n",
      "INFO:root:Updated. Parameters: a=40, b=4, value=241.0\n",
      "INFO:root:Set a to 50\n",
      "INFO:root:Updated. Parameters: a=50, b=4, value=295.0\n"
     ]
    }
   ],
   "source": [
    "m.prevent_update = False\n",
    "m.a = 40\n",
    "m.b = 4\n",
    "m.a = 50"
   ]
  },
  {
   "cell_type": "code",
   "execution_count": 34,
   "metadata": {},
   "outputs": [
    {
     "name": "stderr",
     "output_type": "stream",
     "text": [
      "INFO:root:Set a to 40\n",
      "INFO:root:Set b to 4\n",
      "INFO:root:Set a to 50\n",
      "INFO:root:Updated. Parameters: a=50, b=4, value=349.0\n"
     ]
    }
   ],
   "source": [
    "with m.single_update():\n",
    "    m.a = 40\n",
    "    m.b = 4\n",
    "    m.a = 50"
   ]
  }
 ],
 "metadata": {
  "kernelspec": {
   "display_name": "updatetest-Yo4D-XcT-py3.12",
   "language": "python",
   "name": "python3"
  },
  "language_info": {
   "codemirror_mode": {
    "name": "ipython",
    "version": 3
   },
   "file_extension": ".py",
   "mimetype": "text/x-python",
   "name": "python",
   "nbconvert_exporter": "python",
   "pygments_lexer": "ipython3",
   "version": "3.12.1"
  }
 },
 "nbformat": 4,
 "nbformat_minor": 2
}
